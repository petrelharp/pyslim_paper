{
 "cells": [
  {
   "cell_type": "code",
   "execution_count": null,
   "id": "1ca6e51b-a453-43c6-b12c-92166d9615ef",
   "metadata": {},
   "outputs": [],
   "source": [
    "import pandas as pd\n",
    "import pyslim\n",
    "import tskit\n",
    "import numpy as np"
   ]
  },
  {
   "cell_type": "markdown",
   "id": "256391b3-695a-4ab5-9fa4-9a40c15a3f3d",
   "metadata": {},
   "source": [
    "# Parallelizing SLiM simulations in a phylogenetic tree"
   ]
  },
  {
   "cell_type": "code",
   "execution_count": null,
   "id": "dd156e33-810d-40ba-a5ac-af2d0de20602",
   "metadata": {},
   "outputs": [],
   "source": [
    "path_to_tsv = \"./phylo.tsv\"\n",
    "path_to_make = \"./parallel_sims.make\"\n",
    "path_to_slimscript = \"./simulate_branch.slim\"\n",
    "path_to_unioned = \"./unioned.trees\""
   ]
  },
  {
   "cell_type": "markdown",
   "id": "0b7cf858-01b5-44db-83aa-7697ece68c07",
   "metadata": {},
   "source": [
    "## Simulating the branches"
   ]
  },
  {
   "cell_type": "markdown",
   "id": "f7a2f991-13ec-4503-82ce-c984e63382a1",
   "metadata": {},
   "source": [
    "### Creating the Makefile to run simulations"
   ]
  },
  {
   "cell_type": "code",
   "execution_count": null,
   "id": "68adc074-2f30-4a84-8a7c-89f83bab8e3f",
   "metadata": {},
   "outputs": [],
   "source": [
    "# Reading the phylogeny data frame\n",
    "df = pd.read_csv(path_to_tsv, sep=\"\\t\")\n",
    "df = df.fillna('')\n",
    "\n",
    "## Creating intermediate tree sequences filenames\n",
    "df[\"infile\"] = df.parent + \".trees\"\n",
    "df[\"outfile\"] = df.child + \".trees\"\n",
    "df.loc[df[\"infile\"]==\".trees\", \"infile\"] = \"\"\n",
    "df[\"is_leaf\"] = ~df.child.isin(df.parent) # setting nodes that are never parents as leaves"
   ]
  },
  {
   "cell_type": "code",
   "execution_count": null,
   "id": "37967761-4222-48dc-b67d-8c8378e79f84",
   "metadata": {},
   "outputs": [],
   "source": [
    "# Writing a Makefile \n",
    "f = open(path_to_make, \"w\")\n",
    "print(f\"all: {' '.join(df.outfile.to_list())}\\n\", file=f)\n",
    "for i, row in df.iterrows():\n",
    "    print(f\"{row.outfile}: {row.infile} {path_to_slimscript}\", file=f)\n",
    "    print(f\"\\tslim -s 123 -d \\\"infile='{row.infile}'\\\" -d popsize={row.popsize} \"\n",
    "          f\"-d \\\"popname=\\'{row.child}\\'\\\" \"\n",
    "          f\"-d num_gens={row.edgelen} \" f\"-d \\\"outfile='{row.child}.trees'\\\" \"\n",
    "          f\"{path_to_slimscript}\\n\",\n",
    "          file=f)\n",
    "f.close()"
   ]
  },
  {
   "cell_type": "markdown",
   "id": "ac108849-c0bd-4311-a56e-fe145b12fc2b",
   "metadata": {},
   "source": [
    "### Running the simulations in parallel"
   ]
  },
  {
   "cell_type": "code",
   "execution_count": null,
   "id": "f05f1b2d-7151-4aee-882b-25b4fe3b86ba",
   "metadata": {},
   "outputs": [],
   "source": [
    "%%bash\n",
    "make -f parallel_sims.make -j 3"
   ]
  },
  {
   "cell_type": "markdown",
   "id": "fd622231-05ed-447d-9fe9-4eb112b17817",
   "metadata": {},
   "source": [
    "## Putting it all together: unioning the tree sequences"
   ]
  },
  {
   "cell_type": "code",
   "execution_count": null,
   "id": "8e646042-cd0f-4397-8bf1-079cb487fb40",
   "metadata": {},
   "outputs": [],
   "source": [
    "def match_nodes(other, ts, split_time):\n",
    "    node_mapping = np.full(other.num_nodes, -1, dtype='int')\n",
    "    ts_ids = np.array([n.metadata[\"slim_id\"] for n in ts.nodes()])\n",
    "    other_ids = np.array([n.metadata[\"slim_id\"] for n in other.nodes()])\n",
    "    alive_before_split1 = (other.tables.nodes.time >= split_time)\n",
    "    shared_id = np.isin(other_ids, ts_ids)\n",
    "    both = np.logical_and(alive_before_split1, shared_id)\n",
    "    sorted_ids = np.argsort(ts_ids)\n",
    "    matches = np.searchsorted(\n",
    "        ts_ids,\n",
    "        other_ids[both],\n",
    "        side='left',\n",
    "        sorter=sorted_ids\n",
    "    )\n",
    "    node_mapping[both] = sorted_ids[matches]\n",
    "    return node_mapping"
   ]
  },
  {
   "cell_type": "code",
   "execution_count": null,
   "id": "3af8fc7a-e855-4003-bfb7-27fa8bd56ca4",
   "metadata": {},
   "outputs": [],
   "source": [
    "def union_children(parent, df, merged):\n",
    "    print(f\"Going in: {parent}\")\n",
    "    child_rows = df[df.parent == parent]\n",
    "    assert (len(child_rows) == 2) or (len(childs) == 0)\n",
    "    if len(child_rows) == 2:\n",
    "        children = [row.child for _, row in child_rows.iterrows()]\n",
    "        for child in children:\n",
    "            if child not in merged:\n",
    "                union_children(child, df, merged)\n",
    "        split_time = merged[children[0]][\"depth\"]\n",
    "        assert split_time == merged[children[1]][\"depth\"] # ultrametric\n",
    "        print(f'Unioning: {children}, Split time: {split_time}')\n",
    "        ts0 = merged[children[0]][\"ts\"]\n",
    "        ts1 = merged[children[1]][\"ts\"]\n",
    "        node_map = match_nodes(ts1, ts0, split_time)\n",
    "        tsu = ts0.union(ts1, node_map, check_shared_equality=True)\n",
    "        # the time from tip to start of simulation is split_time plus the\n",
    "        # length of the edge\n",
    "        parent_edgelength = df[df.child==parent].edgelen.item()\n",
    "        merged[parent] = {\n",
    "            \"ts\": tsu,\n",
    "            \"depth\": split_time + parent_edgelength,\n",
    "            \"children\": merged[children[0]][\"children\"] + merged[children[1]][\"children\"]\n",
    "        }"
   ]
  },
  {
   "cell_type": "code",
   "execution_count": null,
   "id": "dfab18b4-53d4-41c7-82b8-29dfb2e987f7",
   "metadata": {},
   "outputs": [],
   "source": [
    "pops = ['A', 'B', 'C']\n",
    "A, B, C = (tskit.load(f\"{x}.trees\") for x in pops)\n",
    "nm = match_nodes(B, A, split_time=50)\n",
    "AB = A.union(B, nm)\n",
    "nm = match_nodes(C, AB, split_time=200)\n",
    "ABC = AB.union(C, nm)"
   ]
  },
  {
   "cell_type": "code",
   "execution_count": null,
   "id": "0b1d0b74-17bc-409c-843e-d3b2214b7095",
   "metadata": {},
   "outputs": [],
   "source": [
    "alive = np.where(np.isclose(ABC.tables.nodes.time, 0))[0]\n",
    "pop_ids = {}\n",
    "for pop in ABC.populations():\n",
    "    if pop.metadata is not None:\n",
    "        pop_ids[pop.metadata['name']] = pop.id\n",
    "\n",
    "for name in pops:\n",
    "    pop_samples = ABC.samples(pop_ids[name])\n",
    "    n_samples = sum(np.isin(pop_samples, alive)) // 2\n",
    "    print(f\"Union-ed tree sequence has {n_samples} samples in population {name},\\n\"\n",
    "          f\"\\tand we specified {df[df.child==name].popsize.item()} individuals in our simulations.\")\n",
    "    assert n_samples == df[df.child==name].popsize.item()"
   ]
  }
 ],
 "metadata": {
  "kernelspec": {
   "display_name": "pyslim",
   "language": "python",
   "name": "python3"
  },
  "language_info": {
   "codemirror_mode": {
    "name": "ipython",
    "version": 3
   },
   "file_extension": ".py",
   "mimetype": "text/x-python",
   "name": "python",
   "nbconvert_exporter": "python",
   "pygments_lexer": "ipython3",
   "version": "3.13.5"
  }
 },
 "nbformat": 4,
 "nbformat_minor": 5
}
