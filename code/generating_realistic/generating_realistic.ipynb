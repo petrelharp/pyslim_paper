{
 "cells": [
  {
   "cell_type": "code",
   "execution_count": 4,
   "id": "9613dd41",
   "metadata": {},
   "outputs": [],
   "source": [
    "import pyslim\n",
    "import tskit\n",
    "import msprime"
   ]
  },
  {
   "cell_type": "markdown",
   "id": "0599267a",
   "metadata": {},
   "source": [
    "# Generating realistic genetic data"
   ]
  },
  {
   "cell_type": "markdown",
   "id": "ac00ca69",
   "metadata": {},
   "source": [
    "## Overlaying neutral diversity"
   ]
  },
  {
   "cell_type": "code",
   "execution_count": 5,
   "id": "930c52bd",
   "metadata": {},
   "outputs": [],
   "source": [
    "ts = tskit.load(\"../generating_diversity/final.trees\")\n",
    "next_id = pyslim.next_slim_mutation_id(ts)\n",
    "mut_model = msprime.SLiMMutationModel(type=1, next_id=next_id)\n",
    "vts = msprime.sim_mutations( ts, rate=0.99 * 3e-8,\n",
    "        model=mut_model, keep=True)"
   ]
  },
  {
   "cell_type": "code",
   "execution_count": 6,
   "id": "8fefa0dc",
   "metadata": {},
   "outputs": [],
   "source": [
    "nts = pyslim.generate_nucleotides(vts)\n",
    "nts = pyslim.convert_alleles(nts)\n",
    "with open('nucs.vcf', 'w') as f:\n",
    "    nts.write_vcf(f)"
   ]
  }
 ],
 "metadata": {
  "kernelspec": {
   "display_name": "pyslim",
   "language": "python",
   "name": "python3"
  },
  "language_info": {
   "codemirror_mode": {
    "name": "ipython",
    "version": 3
   },
   "file_extension": ".py",
   "mimetype": "text/x-python",
   "name": "python",
   "nbconvert_exporter": "python",
   "pygments_lexer": "ipython3",
   "version": "3.13.5"
  }
 },
 "nbformat": 4,
 "nbformat_minor": 5
}
