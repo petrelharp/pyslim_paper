{
 "cells": [
  {
   "cell_type": "code",
   "execution_count": 1,
   "id": "9613dd41",
   "metadata": {},
   "outputs": [],
   "source": [
    "import pyslim\n",
    "import tskit\n",
    "import msprime"
   ]
  },
  {
   "cell_type": "markdown",
   "id": "0599267a",
   "metadata": {},
   "source": [
    "# Generating realistic genetic data"
   ]
  },
  {
   "cell_type": "markdown",
   "id": "ac00ca69",
   "metadata": {},
   "source": [
    "## Overlaying neutral diversity"
   ]
  },
  {
   "cell_type": "markdown",
   "id": "60bc6d6d-2090-4a9a-b50e-1977b75d8844",
   "metadata": {},
   "source": [
    "We continue from the previous example,\n",
    "now adding additional, neutral, mutations:"
   ]
  },
  {
   "cell_type": "code",
   "execution_count": 2,
   "id": "930c52bd",
   "metadata": {},
   "outputs": [],
   "source": [
    "ts = tskit.load(\"../generating_diversity/final.trees\")\n",
    "next_id = pyslim.next_slim_mutation_id(ts)\n",
    "mut_model = msprime.SLiMMutationModel(type=1, next_id=next_id)\n",
    "vts = msprime.sim_mutations( ts, rate=0.99 * 3e-8,\n",
    "        model=mut_model, keep=True)"
   ]
  },
  {
   "cell_type": "markdown",
   "id": "22a120f6-fea6-4c52-bb7a-b66b047e7b4e",
   "metadata": {},
   "source": [
    "To write out a (legal) VCF we need to swap out the ancestral and derived states for nucleotides:"
   ]
  },
  {
   "cell_type": "code",
   "execution_count": 3,
   "id": "8fefa0dc",
   "metadata": {},
   "outputs": [],
   "source": [
    "nts = pyslim.generate_nucleotides(vts)\n",
    "nts = pyslim.convert_alleles(nts)\n",
    "with open('nucs.vcf', 'w') as f:\n",
    "    nts.write_vcf(f)"
   ]
  },
  {
   "cell_type": "markdown",
   "id": "253c45ab-726c-4238-bef9-279e48eb520d",
   "metadata": {},
   "source": [
    "Let's see:"
   ]
  },
  {
   "cell_type": "code",
   "execution_count": 4,
   "id": "52892e39-a225-4fc5-9bb3-1394bc44ad0c",
   "metadata": {},
   "outputs": [
    {
     "name": "stdout",
     "output_type": "stream",
     "text": [
      "##fileformat=VCFv4.2\n",
      "##source=tskit 0.6.2\n",
      "##FILTER=<ID=PASS,Description=\"All filters passed\">\n",
      "##contig=<ID=1,length=90000000>\n",
      "##FORMAT=<ID=GT,Number=1,Type=String,Description=\"Genotype\">\n",
      "#CHROM\tPOS\tID\tREF\tALT\tQUAL\tFILTER\tINFO\tFORMAT\ttsk_0\ttsk_1\ttsk_2\ttsk_3\ttsk_4\ttsk_5\n",
      "1\t76\t0\tC\tG\t.\tPASS\t.\tGT\t0|0\t0|0\t0|0\t0|0\t1|0\t0|0\n",
      "1\t1533\t1\tG\tA\t.\tPASS\t.\tGT\t0|0\t0|0\t0|0\t0|0\t0|0\t0|0\n",
      "1\t2519\t2\tC\tG\t.\tPASS\t.\tGT\t0|0\t0|1\t0|0\t0|0\t0|0\t0|1\n",
      "1\t4342\t3\tG\tC\t.\tPASS\t.\tGT\t0|0\t0|0\t0|0\t0|0\t0|0\t0|0\n"
     ]
    }
   ],
   "source": [
    "! head nucs.vcf | cut -f 1-15 "
   ]
  }
 ],
 "metadata": {
  "kernelspec": {
   "display_name": "Python 3 (ipykernel)",
   "language": "python",
   "name": "python3"
  },
  "language_info": {
   "codemirror_mode": {
    "name": "ipython",
    "version": 3
   },
   "file_extension": ".py",
   "mimetype": "text/x-python",
   "name": "python",
   "nbconvert_exporter": "python",
   "pygments_lexer": "ipython3",
   "version": "3.13.5"
  }
 },
 "nbformat": 4,
 "nbformat_minor": 5
}
