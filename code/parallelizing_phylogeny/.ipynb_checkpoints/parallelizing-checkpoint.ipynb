{
 "cells": [
  {
   "cell_type": "markdown",
   "id": "256391b3-695a-4ab5-9fa4-9a40c15a3f3d",
   "metadata": {},
   "source": [
    "# Parallelizing SLiM simulations in a phylogenetic tree"
   ]
  },
  {
   "cell_type": "code",
   "execution_count": 1,
   "id": "1ca6e51b-a453-43c6-b12c-92166d9615ef",
   "metadata": {},
   "outputs": [],
   "source": [
    "import pandas as pd\n",
    "import pyslim\n",
    "from IPython.display import display"
   ]
  },
  {
   "cell_type": "code",
   "execution_count": 2,
   "id": "dd156e33-810d-40ba-a5ac-af2d0de20602",
   "metadata": {},
   "outputs": [],
   "source": [
    "path_to_tsv = \"./phylo.tsv\"\n",
    "path_to_make = \"./parallel_sims.make\"\n",
    "path_to_slimscript = \"./simulate_branch.slim\"\n",
    "path_to_unioned = \"./unioned.trees\""
   ]
  },
  {
   "cell_type": "markdown",
   "id": "0b7cf858-01b5-44db-83aa-7697ece68c07",
   "metadata": {},
   "source": [
    "## Simulating the branches"
   ]
  },
  {
   "cell_type": "markdown",
   "id": "f7a2f991-13ec-4503-82ce-c984e63382a1",
   "metadata": {},
   "source": [
    "### Creating the Makefile to run simulations"
   ]
  },
  {
   "cell_type": "code",
   "execution_count": 3,
   "id": "68adc074-2f30-4a84-8a7c-89f83bab8e3f",
   "metadata": {},
   "outputs": [],
   "source": [
    "\n",
    "# Reading the phylogeny data frame\n",
    "df = pd.read_csv(path_to_tsv, sep=\"\\t\")\n",
    "df = df.fillna('')\n",
    "\n",
    "## Creating intermediate tree sequences filenames\n",
    "df[\"infile\"] = df.parent + \".trees\"\n",
    "df[\"outfile\"] = df.child + \".trees\"\n",
    "df.loc[df[\"infile\"]==\".trees\", \"infile\"] = \"\"\n",
    "df[\"is_leaf\"] = ~df.child.isin(df.parent) # setting nodes that are never parents as leaves"
   ]
  },
  {
   "cell_type": "code",
   "execution_count": 4,
   "id": "37967761-4222-48dc-b67d-8c8378e79f84",
   "metadata": {},
   "outputs": [],
   "source": [
    "# Writing a Makefile \n",
    "f = open(path_to_make, \"w\")\n",
    "print(f\"all: {' '.join(df.outfile.to_list())}\\n\", file=f)\n",
    "for i, row in df.iterrows():\n",
    "    print(f\"{row.outfile}: {row.infile} {path_to_slimscript}\", file=f)\n",
    "    print(f\"\\tslim -s 123 -d \\\"infile='{row.infile}'\\\" -d popsize={row.popsize} \"\n",
    "          f\"-d \\\"popname=\\'{row.child}\\'\\\" \"\n",
    "          f\"-d num_gens={row.edgelen} \" f\"-d \\\"outfile='{row.child}.trees'\\\" \"\n",
    "          f\"{path_to_slimscript}\\n\",\n",
    "          file=f)\n",
    "f.close()"
   ]
  },
  {
   "cell_type": "markdown",
   "id": "ac108849-c0bd-4311-a56e-fe145b12fc2b",
   "metadata": {},
   "source": [
    "### Running the simulations in parallel"
   ]
  },
  {
   "cell_type": "code",
   "execution_count": 5,
   "id": "f05f1b2d-7151-4aee-882b-25b4fe3b86ba",
   "metadata": {},
   "outputs": [
    {
     "name": "stdout",
     "output_type": "stream",
     "text": [
      "slim -d \"infile=''\" -d popsize=500 -d \"popname='root'\" -d num_gens=2000 -d \"outfile='root.trees'\" ./simulate_branch.slim\n",
      "// Initial random seed:\n",
      "641735061423111016\n",
      "\n",
      "// RunInitializeCallbacks():\n",
      "initializeSLiMModelType(modelType = 'WF');\n",
      "initializeTreeSeq();\n",
      "initializeMutationRate(1e-08);\n",
      "initializeMutationType(1, 0.5, \"f\", -0.01);\n",
      "initializeGenomicElementType(1, m1, 0.1);\n",
      "initializeGenomicElement(g1, 0, 999999);\n",
      "initializeRecombinationRate(1e-09);\n",
      "\n",
      "// Starting run at tick <start>:\n",
      "1 \n",
      "\n",
      "slim -d \"infile='root.trees'\" -d popsize=50 -d \"popname='C'\" -d num_gens=250 -d \"outfile='C.trees'\" ./simulate_branch.slim\n",
      "slim -d \"infile='root.trees'\" -d popsize=100 -d \"popname='I'\" -d num_gens=200 -d \"outfile='I.trees'\" ./simulate_branch.slim\n",
      "// Initial random seed:\n",
      "7232923859619268984\n",
      "\n",
      "// Initial random seed:\n",
      "2553866822397630649\n",
      "\n",
      "// RunInitializeCallbacks():\n",
      "// RunInitializeCallbacks():\n",
      "initializeSLiMModelType(modelType = 'WF');\n",
      "initializeTreeSeq();\n",
      "initializeSLiMModelType(modelType = 'WF');\n",
      "initializeTreeSeq();\n",
      "initializeMutationRate(1e-08);\n",
      "initializeMutationRate(1e-08);\n",
      "initializeMutationType(1, 0.5, \"f\", -0.01);\n",
      "initializeGenomicElementType(1, m1, 0.1);\n",
      "initializeGenomicElement(g1, 0, 999999);\n",
      "initializeRecombinationRate(1e-09);\n",
      "initializeMutationType(1, 0.5, \"f\", -0.01);\n",
      "\n",
      "// Starting run at tick <start>:\n",
      "1 \n",
      "\n",
      "initializeGenomicElementType(1, m1, 0.1);\n",
      "initializeGenomicElement(g1, 0, 999999);\n",
      "initializeRecombinationRate(1e-09);\n",
      "\n",
      "// Starting run at tick <start>:\n",
      "1 \n",
      "\n",
      "slim -d \"infile='I.trees'\" -d popsize=70 -d \"popname='B'\" -d num_gens=50 -d \"outfile='B.trees'\" ./simulate_branch.slim\n",
      "slim -d \"infile='I.trees'\" -d popsize=40 -d \"popname='A'\" -d num_gens=50 -d \"outfile='A.trees'\" ./simulate_branch.slim\n",
      "// Initial random seed:\n",
      "6246967587625138871\n",
      "\n",
      "// Initial random seed:\n",
      "2987157444177349279\n",
      "\n",
      "// RunInitializeCallbacks():\n",
      "// RunInitializeCallbacks():\n",
      "initializeSLiMModelType(modelType = 'WF');\n",
      "initializeSLiMModelType(modelType = 'WF');\n",
      "initializeTreeSeq();\n",
      "initializeTreeSeq();\n",
      "initializeMutationRate(1e-08);\n",
      "initializeMutationRate(1e-08);\n",
      "initializeMutationType(1, 0.5, \"f\", -0.01);\n",
      "initializeMutationType(1, 0.5, \"f\", -0.01);\n",
      "initializeGenomicElementType(1, m1, 0.1);\n",
      "initializeGenomicElement(g1, 0, 999999);\n",
      "initializeRecombinationRate(1e-09);\n",
      "initializeGenomicElementType(1, m1, 0.1);\n",
      "initializeGenomicElement(g1, 0, 999999);\n",
      "initializeRecombinationRate(1e-09);\n",
      "\n",
      "// Starting run at tick <start>:\n",
      "1 \n",
      "\n",
      "\n",
      "// Starting run at tick <start>:\n",
      "1 \n",
      "\n"
     ]
    }
   ],
   "source": [
    "%%bash\n",
    "make -f parallel_sims.make -j 3"
   ]
  },
  {
   "cell_type": "markdown",
   "id": "fd622231-05ed-447d-9fe9-4eb112b17817",
   "metadata": {},
   "source": [
    "## Putting it all together: unioning the tree sequences"
   ]
  },
  {
   "cell_type": "code",
   "execution_count": 6,
   "id": "8e646042-cd0f-4397-8bf1-079cb487fb40",
   "metadata": {},
   "outputs": [],
   "source": [
    "import tskit\n",
    "import numpy as np\n",
    "import pandas as pd\n",
    "\n",
    "def match_nodes(other, ts, split_time):\n",
    "    \"\"\"\n",
    "    Given SLiM tree sequences `other` and `ts`, builds a numpy array with length\n",
    "    `other.num_nodes` in which the indexes represent the node id in `other` and the\n",
    "    entries represent the equivalent node id in `ts`. If a node in `other` has no\n",
    "    equivalent in `ts`, then the entry takes the value `tskit.NULL` (-1). The\n",
    "    matching is done by comparing the IDs assigned by SLiM which are kept in\n",
    "    node metadata. This matching of SLiM IDs is *only* done for nodes with time\n",
    "    older than the specified `split_time`.\n",
    "    \"\"\"\n",
    "    node_mapping = np.full(other.num_nodes, tskit.NULL)\n",
    "    sids0 = np.array([n.metadata[\"slim_id\"] for n in ts.nodes()])\n",
    "    sids1 = np.array([n.metadata[\"slim_id\"] for n in other.nodes()])\n",
    "    alive_before_split1 = (other.tables.nodes.time >= split_time)\n",
    "    is_1in0 = np.isin(sids1, sids0)\n",
    "    both = np.logical_and(alive_before_split1, is_1in0)\n",
    "    sorted_ids0 = np.argsort(sids0)\n",
    "    matches = np.searchsorted(\n",
    "        sids0,\n",
    "        sids1[both],\n",
    "        side='left',\n",
    "        sorter=sorted_ids0\n",
    "    )\n",
    "    node_mapping[both] = sorted_ids0[matches]\n",
    "    return node_mapping"
   ]
  },
  {
   "cell_type": "code",
   "execution_count": 7,
   "id": "3af8fc7a-e855-4003-bfb7-27fa8bd56ca4",
   "metadata": {},
   "outputs": [],
   "source": [
    "def union_children(parent, df, merged):\n",
    "    print(f\"Going in: {parent}\")\n",
    "    child_rows = df[df.parent == parent]\n",
    "    assert (len(child_rows) == 2) or (len(childs) == 0)\n",
    "    if len(child_rows) == 2:\n",
    "        children = [row.child for _, row in child_rows.iterrows()]\n",
    "        for child in children:\n",
    "            if child not in merged:\n",
    "                union_children(child, df, merged)\n",
    "        split_time = merged[children[0]][\"depth\"]\n",
    "        assert split_time == merged[children[1]][\"depth\"] # ultrametric\n",
    "        print(f'Unioning: {children}, Split time: {split_time}')\n",
    "        ts0 = merged[children[0]][\"ts\"]\n",
    "        ts1 = merged[children[1]][\"ts\"]\n",
    "        node_map = match_nodes(ts1, ts0, split_time)\n",
    "        tsu = ts0.union(ts1, node_map, check_shared_equality=True)\n",
    "        # the time from tip to start of simulation is split_time plus the\n",
    "        # length of the edge\n",
    "        parent_edgelength = df[df.child==parent].edgelen.item()\n",
    "        merged[parent] = {\n",
    "            \"ts\": tsu,\n",
    "            \"depth\": split_time + parent_edgelength,\n",
    "            \"children\": merged[children[0]][\"children\"] + merged[children[1]][\"children\"]\n",
    "        }"
   ]
  },
  {
   "cell_type": "code",
   "execution_count": 8,
   "id": "dfab18b4-53d4-41c7-82b8-29dfb2e987f7",
   "metadata": {},
   "outputs": [
    {
     "name": "stdout",
     "output_type": "stream",
     "text": [
      "Going in: root\n",
      "Going in: I\n",
      "Unioning: ['B', 'A'], Split time: 50\n",
      "Unioning: ['C', 'I'], Split time: 250\n"
     ]
    }
   ],
   "source": [
    "merged = {\n",
    "    row.child : {\n",
    "        \"ts\": tskit.load(row.outfile),\n",
    "        \"depth\": row.edgelen,\n",
    "        \"children\": [row.child]\n",
    "    }\n",
    "    for i, row in df[df.is_leaf].iterrows()\n",
    "}\n",
    "\n",
    "union_children(\"root\", df, merged)\n",
    "# union of all three species tree sequences is in the root.\n",
    "tsu = merged[\"root\"][\"ts\"]\n",
    "pops = merged[\"root\"][\"children\"]"
   ]
  },
  {
   "cell_type": "code",
   "execution_count": 9,
   "id": "0b1d0b74-17bc-409c-843e-d3b2214b7095",
   "metadata": {},
   "outputs": [
    {
     "name": "stdout",
     "output_type": "stream",
     "text": [
      "Union-ed tree sequence has 50 samples in population C,\n",
      "\tand we specified 50 individuals in our simulations.\n",
      "Union-ed tree sequence has 70 samples in population B,\n",
      "\tand we specified 70 individuals in our simulations.\n",
      "Union-ed tree sequence has 40 samples in population A,\n",
      "\tand we specified 40 individuals in our simulations.\n"
     ]
    }
   ],
   "source": [
    "alive = np.where(np.isclose(tsu.tables.nodes.time, 0))[0]\n",
    "pop_ids = {}\n",
    "for pop in tsu.populations():\n",
    "    if pop.metadata is not None:\n",
    "        pop_ids[pop.metadata['name']] = pop.id\n",
    "\n",
    "for name in pops:\n",
    "    pop_samples = tsu.samples(pop_ids[name])\n",
    "    n_samples = sum(np.isin(pop_samples, alive)) // 2\n",
    "    print(f\"Union-ed tree sequence has {n_samples} samples in population {name},\\n\"\n",
    "          f\"\\tand we specified {df[df.child==name].popsize.item()} individuals in our simulations.\")\n",
    "    assert n_samples == df[df.child==name].popsize.item()"
   ]
  },
  {
   "cell_type": "code",
   "execution_count": 10,
   "id": "7c992020-cbca-441e-88fe-2f271de93bf8",
   "metadata": {},
   "outputs": [
    {
     "name": "stderr",
     "output_type": "stream",
     "text": [
      "/Users/murillor/opt/anaconda3/envs/pyslim/lib/python3.13/site-packages/msprime/ancestry.py:1290: TimeUnitsMismatchWarning: The initial_state has time_units=ticks but time is measured in generations in msprime. This may lead to significant discrepancies between the timescales. If you wish to suppress this warning, you can use, e.g., warnings.simplefilter('ignore', msprime.TimeUnitsMismatchWarning)\n",
      "  sim = _parse_sim_ancestry(\n"
     ]
    }
   ],
   "source": [
    "tsu = pyslim.recapitate(tsu, recombination_rate=1e-8, ancestral_Ne=100)\n",
    "tsu.dump(path_to_unioned)"
   ]
  },
  {
   "cell_type": "code",
   "execution_count": 11,
   "id": "b7f8b260-fe43-449c-b17a-f83f9a0fac7a",
   "metadata": {},
   "outputs": [
    {
     "data": {
      "image/svg+xml": [
       "<svg baseProfile=\"full\" height=\"300\" version=\"1.1\" width=\"800\" xmlns=\"http://www.w3.org/2000/svg\" xmlns:ev=\"http://www.w3.org/2001/xml-events\" xmlns:xlink=\"http://www.w3.org/1999/xlink\"><defs><style type=\"text/css\"><![CDATA[.background path {fill: #808080; fill-opacity: 0}.background path:nth-child(odd) {fill-opacity: .1}.x-regions rect {fill: yellow; stroke: black; opacity: 0.5}.axes {font-size: 14px}.x-axis .tick .lab {font-weight: bold; dominant-baseline: hanging}.axes, .tree {font-size: 14px; text-anchor: middle}.axes line, .edge {stroke: black; fill: none}.axes .ax-skip {stroke-dasharray: 4}.y-axis .grid {stroke: #FAFAFA}.node > .sym {fill: black; stroke: none}.site > .sym {stroke: black}.mut text {fill: red; font-style: italic}.mut.extra text {fill: hotpink}.mut line {fill: none; stroke: none}.mut .sym {fill: none; stroke: red}.mut.extra .sym {stroke: hotpink}.node .mut .sym {stroke-width: 1.5px}.tree text, .tree-sequence text {dominant-baseline: central}.plotbox .lab.lft {text-anchor: end}.plotbox .lab.rgt {text-anchor: start}.polytomy line {stroke: black; stroke-dasharray: 1px, 1px}.polytomy text {paint-order:stroke;stroke-width:0.3em;stroke:white}]]></style></defs><g class=\"tree-sequence\"><g class=\"background\"><path d=\"M20,0 l760,0 l0,238.2 l0,25 l0,5 l-760,0 l0,-5 l0,-25 l0,-238.2z\"/></g><g class=\"axes\"><g class=\"x-axis\"><g class=\"title\" transform=\"translate(400 300)\"><text class=\"lab\" text-anchor=\"middle\" transform=\"translate(0 -11)\">Genome position</text></g><line class=\"ax-line\" x1=\"20\" x2=\"780\" y1=\"263.2\" y2=\"263.2\"/><g class=\"ticks\"><g class=\"tick\" transform=\"translate(20 263.2)\"><line x1=\"0\" x2=\"0\" y1=\"0\" y2=\"5\"/><g transform=\"translate(0 6)\"><text class=\"lab\">0</text></g></g></g></g></g><g class=\"plotbox trees\"><g class=\"tree t-1\" transform=\"translate(20 0)\"><g class=\"plotbox\"><g class=\"c2 i2 node n23 p1 root\" transform=\"translate(376.25 26.8)\"><g class=\"a23 c2 node n18 p2\" transform=\"translate(-198.75 129.993)\"><g class=\"a18 i0 leaf node n1 p2 sample\" transform=\"translate(52.5 64.6072)\"><path class=\"edge\" d=\"M 0 0 V -64.6072 H -52.5\"/><rect class=\"sym\" height=\"6\" width=\"6\" x=\"-3\" y=\"-3\"/><text class=\"lab\" transform=\"translate(0 11)\">C</text></g><g class=\"a18 c2 node n16 p2\" transform=\"translate(-52.5 24.9088)\"><g class=\"a16 i1 leaf node n3 p2 sample\" transform=\"translate(45 39.6984)\"><path class=\"edge\" d=\"M 0 0 V -39.6984 H -45\"/><rect class=\"sym\" height=\"6\" width=\"6\" x=\"-3\" y=\"-3\"/><text class=\"lab\" transform=\"translate(0 11)\">C</text></g><g class=\"a16 c2 node n13 p2\" transform=\"translate(-45 14.7896)\"><g class=\"a13 i0 leaf node n0 p2 sample\" transform=\"translate(-30 24.9088)\"><path class=\"edge\" d=\"M 0 0 V -24.9088 H 30\"/><rect class=\"sym\" height=\"6\" width=\"6\" x=\"-3\" y=\"-3\"/><text class=\"lab\" transform=\"translate(0 11)\">C</text></g><g class=\"a13 i1 leaf node n2 p2 sample\" transform=\"translate(30 24.9088)\"><path class=\"edge\" d=\"M 0 0 V -24.9088 H -30\"/><rect class=\"sym\" height=\"6\" width=\"6\" x=\"-3\" y=\"-3\"/><text class=\"lab\" transform=\"translate(0 11)\">C</text></g><path class=\"edge\" d=\"M 0 0 V -14.7896 H 45\"/><circle class=\"sym\" cx=\"0\" cy=\"0\" r=\"3\"/><text class=\"lab lft\" transform=\"translate(-3 -7)\"/></g><path class=\"edge\" d=\"M 0 0 V -24.9088 H 52.5\"/><circle class=\"sym\" cx=\"0\" cy=\"0\" r=\"3\"/><text class=\"lab lft\" transform=\"translate(-3 -7)\"/></g><path class=\"edge\" d=\"M 0 0 V -129.993 H 198.75\"/><circle class=\"sym\" cx=\"0\" cy=\"0\" r=\"3\"/><text class=\"lab lft\" transform=\"translate(-3 -7)\"/></g><g class=\"a23 c2 node n22 p3\" transform=\"translate(198.75 31.9144)\"><g class=\"a22 c2 node n19 p3\" transform=\"translate(105 87.1808)\"><g class=\"a19 i6 leaf node n9 p5 sample\" transform=\"translate(-30 75.5048)\"><path class=\"edge\" d=\"M 0 0 V -75.5048 H 30\"/><rect class=\"sym\" height=\"6\" width=\"6\" x=\"-3\" y=\"-3\"/><text class=\"lab\" transform=\"translate(0 11)\">A</text></g><g class=\"a19 i5 leaf node n10 p5 sample\" transform=\"translate(30 75.5048)\"><path class=\"edge\" d=\"M 0 0 V -75.5048 H -30\"/><rect class=\"sym\" height=\"6\" width=\"6\" x=\"-3\" y=\"-3\"/><text class=\"lab\" transform=\"translate(0 11)\">A</text></g><path class=\"edge\" d=\"M 0 0 V -87.1808 H -105\"/><circle class=\"sym\" cx=\"0\" cy=\"0\" r=\"3\"/><text class=\"lab rgt\" transform=\"translate(3 -7)\"/></g><g class=\"a22 c2 node n20 p3\" transform=\"translate(-105 31.9144)\"><g class=\"a20 c2 node n15 p5\" transform=\"translate(90 91.8512)\"><g class=\"a15 i6 leaf node n8 p5 sample\" transform=\"translate(-30 38.92)\"><path class=\"edge\" d=\"M 0 0 V -38.92 H 30\"/><rect class=\"sym\" height=\"6\" width=\"6\" x=\"-3\" y=\"-3\"/><text class=\"lab\" transform=\"translate(0 11)\">A</text></g><g class=\"a15 i5 leaf node n11 p5 sample\" transform=\"translate(30 38.92)\"><path class=\"edge\" d=\"M 0 0 V -38.92 H -30\"/><rect class=\"sym\" height=\"6\" width=\"6\" x=\"-3\" y=\"-3\"/><text class=\"lab\" transform=\"translate(0 11)\">A</text></g><path class=\"edge\" d=\"M 0 0 V -91.8512 H -90\"/><circle class=\"sym\" cx=\"0\" cy=\"0\" r=\"3\"/><text class=\"lab rgt\" transform=\"translate(3 -7)\"/></g><g class=\"a20 c2 node n17 p3\" transform=\"translate(-90 90.2944)\"><g class=\"a17 c2 node n12 p4\" transform=\"translate(-60 22.5736)\"><g class=\"a12 i4 leaf node n4 p4 sample\" transform=\"translate(-30 17.9032)\"><path class=\"edge\" d=\"M 0 0 V -17.9032 H 30\"/><rect class=\"sym\" height=\"6\" width=\"6\" x=\"-3\" y=\"-3\"/><text class=\"lab\" transform=\"translate(0 11)\">B</text></g><g class=\"a12 i4 leaf node n5 p4 sample\" transform=\"translate(30 17.9032)\"><path class=\"edge\" d=\"M 0 0 V -17.9032 H -30\"/><rect class=\"sym\" height=\"6\" width=\"6\" x=\"-3\" y=\"-3\"/><text class=\"lab\" transform=\"translate(0 11)\">B</text></g><path class=\"edge\" d=\"M 0 0 V -22.5736 H 60\"/><circle class=\"sym\" cx=\"0\" cy=\"0\" r=\"3\"/><text class=\"lab lft\" transform=\"translate(-3 -7)\"/></g><g class=\"a17 c2 node n14 p4\" transform=\"translate(60 8.5624)\"><g class=\"a14 i3 leaf node n6 p4 sample\" transform=\"translate(-30 31.9144)\"><path class=\"edge\" d=\"M 0 0 V -31.9144 H 30\"/><rect class=\"sym\" height=\"6\" width=\"6\" x=\"-3\" y=\"-3\"/><text class=\"lab\" transform=\"translate(0 11)\">B</text></g><g class=\"a14 i3 leaf node n7 p4 sample\" transform=\"translate(30 31.9144)\"><path class=\"edge\" d=\"M 0 0 V -31.9144 H -30\"/><rect class=\"sym\" height=\"6\" width=\"6\" x=\"-3\" y=\"-3\"/><text class=\"lab\" transform=\"translate(0 11)\">B</text></g><path class=\"edge\" d=\"M 0 0 V -8.5624 H -60\"/><circle class=\"sym\" cx=\"0\" cy=\"0\" r=\"3\"/><text class=\"lab rgt\" transform=\"translate(3 -7)\"/></g><path class=\"edge\" d=\"M 0 0 V -90.2944 H 90\"/><circle class=\"sym\" cx=\"0\" cy=\"0\" r=\"3\"/><text class=\"lab lft\" transform=\"translate(-3 -7)\"/></g><path class=\"edge\" d=\"M 0 0 V -31.9144 H 105\"/><circle class=\"sym\" cx=\"0\" cy=\"0\" r=\"3\"/><text class=\"lab lft\" transform=\"translate(-3 -7)\"/></g><path class=\"edge\" d=\"M 0 0 V -31.9144 H -198.75\"/><circle class=\"sym\" cx=\"0\" cy=\"0\" r=\"3\"/><text class=\"lab rgt\" transform=\"translate(3 -7)\"/></g><circle class=\"sym\" cx=\"0\" cy=\"0\" r=\"3\"/><text class=\"lab\" transform=\"translate(0 -11)\"/></g></g></g></g></g></svg>"
      ],
      "text/plain": [
       "'<svg baseProfile=\"full\" height=\"300\" version=\"1.1\" width=\"800\" xmlns=\"http://www.w3.org/2000/svg\" xmlns:ev=\"http://www.w3.org/2001/xml-events\" xmlns:xlink=\"http://www.w3.org/1999/xlink\"><defs><style type=\"text/css\"><![CDATA[.background path {fill: #808080; fill-opacity: 0}.background path:nth-child(odd) {fill-opacity: .1}.x-regions rect {fill: yellow; stroke: black; opacity: 0.5}.axes {font-size: 14px}.x-axis .tick .lab {font-weight: bold; dominant-baseline: hanging}.axes, .tree {font-size: 14px; text-anchor: middle}.axes line, .edge {stroke: black; fill: none}.axes .ax-skip {stroke-dasharray: 4}.y-axis .grid {stroke: #FAFAFA}.node > .sym {fill: black; stroke: none}.site > .sym {stroke: black}.mut text {fill: red; font-style: italic}.mut.extra text {fill: hotpink}.mut line {fill: none; stroke: none}.mut .sym {fill: none; stroke: red}.mut.extra .sym {stroke: hotpink}.node .mut .sym {stroke-width: 1.5px}.tree text, .tree-sequence text {dominant-baseline: central}.plotbox .lab.lft {text-anchor: end}.plotbox .lab.rgt {text-anchor: start}.polytomy line {stroke: black; stroke-dasharray: 1px, 1px}.polytomy text {paint-order:stroke;stroke-width:0.3em;stroke:white}]]></style></defs><g class=\"tree-sequence\"><g class=\"background\"><path d=\"M20,0 l760,0 l0,238.2 l0,25 l0,5 l-760,0 l0,-5 l0,-25 l0,-238.2z\"/></g><g class=\"axes\"><g class=\"x-axis\"><g class=\"title\" transform=\"translate(400 300)\"><text class=\"lab\" text-anchor=\"middle\" transform=\"translate(0 -11)\">Genome position</text></g><line class=\"ax-line\" x1=\"20\" x2=\"780\" y1=\"263.2\" y2=\"263.2\"/><g class=\"ticks\"><g class=\"tick\" transform=\"translate(20 263.2)\"><line x1=\"0\" x2=\"0\" y1=\"0\" y2=\"5\"/><g transform=\"translate(0 6)\"><text class=\"lab\">0</text></g></g></g></g></g><g class=\"plotbox trees\"><g class=\"tree t-1\" transform=\"translate(20 0)\"><g class=\"plotbox\"><g class=\"c2 i2 node n23 p1 root\" transform=\"translate(376.25 26.8)\"><g class=\"a23 c2 node n18 p2\" transform=\"translate(-198.75 129.993)\"><g class=\"a18 i0 leaf node n1 p2 sample\" transform=\"translate(52.5 64.6072)\"><path class=\"edge\" d=\"M 0 0 V -64.6072 H -52.5\"/><rect class=\"sym\" height=\"6\" width=\"6\" x=\"-3\" y=\"-3\"/><text class=\"lab\" transform=\"translate(0 11)\">C</text></g><g class=\"a18 c2 node n16 p2\" transform=\"translate(-52.5 24.9088)\"><g class=\"a16 i1 leaf node n3 p2 sample\" transform=\"translate(45 39.6984)\"><path class=\"edge\" d=\"M 0 0 V -39.6984 H -45\"/><rect class=\"sym\" height=\"6\" width=\"6\" x=\"-3\" y=\"-3\"/><text class=\"lab\" transform=\"translate(0 11)\">C</text></g><g class=\"a16 c2 node n13 p2\" transform=\"translate(-45 14.7896)\"><g class=\"a13 i0 leaf node n0 p2 sample\" transform=\"translate(-30 24.9088)\"><path class=\"edge\" d=\"M 0 0 V -24.9088 H 30\"/><rect class=\"sym\" height=\"6\" width=\"6\" x=\"-3\" y=\"-3\"/><text class=\"lab\" transform=\"translate(0 11)\">C</text></g><g class=\"a13 i1 leaf node n2 p2 sample\" transform=\"translate(30 24.9088)\"><path class=\"edge\" d=\"M 0 0 V -24.9088 H -30\"/><rect class=\"sym\" height=\"6\" width=\"6\" x=\"-3\" y=\"-3\"/><text class=\"lab\" transform=\"translate(0 11)\">C</text></g><path class=\"edge\" d=\"M 0 0 V -14.7896 H 45\"/><circle class=\"sym\" cx=\"0\" cy=\"0\" r=\"3\"/><text class=\"lab lft\" transform=\"translate(-3 -7)\"/></g><path class=\"edge\" d=\"M 0 0 V -24.9088 H 52.5\"/><circle class=\"sym\" cx=\"0\" cy=\"0\" r=\"3\"/><text class=\"lab lft\" transform=\"translate(-3 -7)\"/></g><path class=\"edge\" d=\"M 0 0 V -129.993 H 198.75\"/><circle class=\"sym\" cx=\"0\" cy=\"0\" r=\"3\"/><text class=\"lab lft\" transform=\"translate(-3 -7)\"/></g><g class=\"a23 c2 node n22 p3\" transform=\"translate(198.75 31.9144)\"><g class=\"a22 c2 node n19 p3\" transform=\"translate(105 87.1808)\"><g class=\"a19 i6 leaf node n9 p5 sample\" transform=\"translate(-30 75.5048)\"><path class=\"edge\" d=\"M 0 0 V -75.5048 H 30\"/><rect class=\"sym\" height=\"6\" width=\"6\" x=\"-3\" y=\"-3\"/><text class=\"lab\" transform=\"translate(0 11)\">A</text></g><g class=\"a19 i5 leaf node n10 p5 sample\" transform=\"translate(30 75.5048)\"><path class=\"edge\" d=\"M 0 0 V -75.5048 H -30\"/><rect class=\"sym\" height=\"6\" width=\"6\" x=\"-3\" y=\"-3\"/><text class=\"lab\" transform=\"translate(0 11)\">A</text></g><path class=\"edge\" d=\"M 0 0 V -87.1808 H -105\"/><circle class=\"sym\" cx=\"0\" cy=\"0\" r=\"3\"/><text class=\"lab rgt\" transform=\"translate(3 -7)\"/></g><g class=\"a22 c2 node n20 p3\" transform=\"translate(-105 31.9144)\"><g class=\"a20 c2 node n15 p5\" transform=\"translate(90 91.8512)\"><g class=\"a15 i6 leaf node n8 p5 sample\" transform=\"translate(-30 38.92)\"><path class=\"edge\" d=\"M 0 0 V -38.92 H 30\"/><rect class=\"sym\" height=\"6\" width=\"6\" x=\"-3\" y=\"-3\"/><text class=\"lab\" transform=\"translate(0 11)\">A</text></g><g class=\"a15 i5 leaf node n11 p5 sample\" transform=\"translate(30 38.92)\"><path class=\"edge\" d=\"M 0 0 V -38.92 H -30\"/><rect class=\"sym\" height=\"6\" width=\"6\" x=\"-3\" y=\"-3\"/><text class=\"lab\" transform=\"translate(0 11)\">A</text></g><path class=\"edge\" d=\"M 0 0 V -91.8512 H -90\"/><circle class=\"sym\" cx=\"0\" cy=\"0\" r=\"3\"/><text class=\"lab rgt\" transform=\"translate(3 -7)\"/></g><g class=\"a20 c2 node n17 p3\" transform=\"translate(-90 90.2944)\"><g class=\"a17 c2 node n12 p4\" transform=\"translate(-60 22.5736)\"><g class=\"a12 i4 leaf node n4 p4 sample\" transform=\"translate(-30 17.9032)\"><path class=\"edge\" d=\"M 0 0 V -17.9032 H 30\"/><rect class=\"sym\" height=\"6\" width=\"6\" x=\"-3\" y=\"-3\"/><text class=\"lab\" transform=\"translate(0 11)\">B</text></g><g class=\"a12 i4 leaf node n5 p4 sample\" transform=\"translate(30 17.9032)\"><path class=\"edge\" d=\"M 0 0 V -17.9032 H -30\"/><rect class=\"sym\" height=\"6\" width=\"6\" x=\"-3\" y=\"-3\"/><text class=\"lab\" transform=\"translate(0 11)\">B</text></g><path class=\"edge\" d=\"M 0 0 V -22.5736 H 60\"/><circle class=\"sym\" cx=\"0\" cy=\"0\" r=\"3\"/><text class=\"lab lft\" transform=\"translate(-3 -7)\"/></g><g class=\"a17 c2 node n14 p4\" transform=\"translate(60 8.5624)\"><g class=\"a14 i3 leaf node n6 p4 sample\" transform=\"translate(-30 31.9144)\"><path class=\"edge\" d=\"M 0 0 V -31.9144 H 30\"/><rect class=\"sym\" height=\"6\" width=\"6\" x=\"-3\" y=\"-3\"/><text class=\"lab\" transform=\"translate(0 11)\">B</text></g><g class=\"a14 i3 leaf node n7 p4 sample\" transform=\"translate(30 31.9144)\"><path class=\"edge\" d=\"M 0 0 V -31.9144 H -30\"/><rect class=\"sym\" height=\"6\" width=\"6\" x=\"-3\" y=\"-3\"/><text class=\"lab\" transform=\"translate(0 11)\">B</text></g><path class=\"edge\" d=\"M 0 0 V -8.5624 H -60\"/><circle class=\"sym\" cx=\"0\" cy=\"0\" r=\"3\"/><text class=\"lab rgt\" transform=\"translate(3 -7)\"/></g><path class=\"edge\" d=\"M 0 0 V -90.2944 H 90\"/><circle class=\"sym\" cx=\"0\" cy=\"0\" r=\"3\"/><text class=\"lab lft\" transform=\"translate(-3 -7)\"/></g><path class=\"edge\" d=\"M 0 0 V -31.9144 H 105\"/><circle class=\"sym\" cx=\"0\" cy=\"0\" r=\"3\"/><text class=\"lab lft\" transform=\"translate(-3 -7)\"/></g><path class=\"edge\" d=\"M 0 0 V -31.9144 H -198.75\"/><circle class=\"sym\" cx=\"0\" cy=\"0\" r=\"3\"/><text class=\"lab rgt\" transform=\"translate(3 -7)\"/></g><circle class=\"sym\" cx=\"0\" cy=\"0\" r=\"3\"/><text class=\"lab\" transform=\"translate(0 -11)\"/></g></g></g></g></g></svg>'"
      ]
     },
     "metadata": {},
     "output_type": "display_data"
    }
   ],
   "source": [
    "# Visualizing trees\n",
    "rng = np.random.default_rng(seed=123)\n",
    "ind_alive = pyslim.individuals_alive_at(tsu, 0)\n",
    "# TODO: this will work in the next tskit\n",
    "# ind_pops = tsu.individuals_population[ind_alive]\n",
    "ind_pops = np.array([tsu.node(tsu.individual(i).nodes[0]).population for i in ind_alive])\n",
    "subsample_indivs = [\n",
    "    rng.choice(ind_alive[ind_pops == pop_ids[name]], 2)\n",
    "    for name in pops\n",
    "]\n",
    "subsample_nodes = [\n",
    "    np.concatenate([tsu.individual(i).nodes for i in x])\n",
    "    for x in subsample_indivs\n",
    "]\n",
    "tsus = tsu.simplify(\n",
    "        np.concatenate(subsample_nodes),\n",
    "        filter_populations=False,\n",
    ")\n",
    "pop_labels = {v: k for k, v in pop_ids.items()}\n",
    "display(tsus.draw_svg(\n",
    "    node_labels={\n",
    "        node.id: pop_labels[node.population]\n",
    "        for node in tsus.nodes()\n",
    "        if not node.time > 0.0\n",
    "    },\n",
    "    x_lim=[0,2200],\n",
    "    size=(800, 300),\n",
    "))"
   ]
  },
  {
   "cell_type": "code",
   "execution_count": 12,
   "id": "2ec828da-7587-4fe7-885f-f58026fa649d",
   "metadata": {},
   "outputs": [],
   "source": [
    "# Cleaning output\n",
    "#%%bash\n",
    "#rm *.trees *.make"
   ]
  }
 ],
 "metadata": {
  "kernelspec": {
   "display_name": "pyslim-env",
   "language": "python",
   "name": "pyslim"
  },
  "language_info": {
   "codemirror_mode": {
    "name": "ipython",
    "version": 3
   },
   "file_extension": ".py",
   "mimetype": "text/x-python",
   "name": "python",
   "nbconvert_exporter": "python",
   "pygments_lexer": "ipython3",
   "version": "3.13.2"
  }
 },
 "nbformat": 4,
 "nbformat_minor": 5
}
