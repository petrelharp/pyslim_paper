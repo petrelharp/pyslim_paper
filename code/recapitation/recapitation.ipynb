{
 "cells": [
  {
   "cell_type": "code",
   "execution_count": null,
   "id": "51fa7165",
   "metadata": {},
   "outputs": [],
   "source": [
    "import tskit\n",
    "import msprime\n",
    "import pyslim"
   ]
  },
  {
   "cell_type": "markdown",
   "id": "5d77dc49",
   "metadata": {},
   "source": [
    "# Recapitation: tying up loose ends"
   ]
  },
  {
   "cell_type": "code",
   "execution_count": null,
   "id": "2b3cb483",
   "metadata": {},
   "outputs": [],
   "source": [
    "# Running a SLiM simulation\n",
    "! slim recap_example.slim"
   ]
  },
  {
   "cell_type": "code",
   "execution_count": null,
   "id": "1154d7b7",
   "metadata": {},
   "outputs": [],
   "source": [
    "! tskit populations recap_example.trees"
   ]
  },
  {
   "cell_type": "code",
   "execution_count": null,
   "id": "0e86cf1e",
   "metadata": {},
   "outputs": [],
   "source": [
    "ts = tskit.load(\"recap_example.trees\")\n",
    "demography = msprime.Demography.from_tree_sequence(ts, initial_size=100)"
   ]
  },
  {
   "cell_type": "code",
   "execution_count": null,
   "id": "a637d831",
   "metadata": {},
   "outputs": [],
   "source": [
    "demography.add_migration_rate_change(\n",
    "    time=ts.metadata[\"SLiM\"][\"tick\"] + 100,\n",
    "    rate=0.1, source=\"p2\", dest=\"p1\")\n",
    "rts = pyslim.recapitate(ts, demography=demography,\n",
    "            recombination_rate=1e-8)"
   ]
  }
 ],
 "metadata": {
  "kernelspec": {
   "display_name": "pyslim",
   "language": "python",
   "name": "python3"
  },
  "language_info": {
   "codemirror_mode": {
    "name": "ipython",
    "version": 3
   },
   "file_extension": ".py",
   "mimetype": "text/x-python",
   "name": "python",
   "nbconvert_exporter": "python",
   "pygments_lexer": "ipython3",
   "version": "3.13.5"
  }
 },
 "nbformat": 4,
 "nbformat_minor": 5
}
