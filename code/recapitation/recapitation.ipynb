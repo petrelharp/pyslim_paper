{
 "cells": [
  {
   "cell_type": "code",
   "execution_count": 1,
   "id": "51fa7165",
   "metadata": {},
   "outputs": [],
   "source": [
    "import tskit\n",
    "import msprime\n",
    "import pyslim"
   ]
  },
  {
   "cell_type": "markdown",
   "id": "5d77dc49",
   "metadata": {},
   "source": [
    "# Recapitation: tying up loose ends"
   ]
  },
  {
   "cell_type": "code",
   "execution_count": 2,
   "id": "2b3cb483",
   "metadata": {},
   "outputs": [
    {
     "name": "stdout",
     "output_type": "stream",
     "text": [
      "// Initial random seed:\n",
      "5881585934201714720\n",
      "\n",
      "// RunInitializeCallbacks():\n",
      "initializeSLiMModelType(modelType = 'WF');\n",
      "initializeTreeSeq();\n",
      "initializeMutationRate(1e-08);\n",
      "initializeMutationType(1, 0, \"f\", 0);\n",
      "initializeGenomicElementType(1, m1, 1);\n",
      "initializeGenomicElement(g1, 0, 99999);\n",
      "initializeRecombinationRate(1e-08);\n",
      "#WARNING (Species::RunInitializeCallbacks): with tree-sequence recording enabled and a non-zero mutation rate, a neutral mutation type was defined and used; this is legal, but usually undesirable, since neutral mutations can be overlaid later using the tree-sequence information.\n",
      "\n",
      "// Starting run at tick <start>:\n",
      "1 \n",
      "\n"
     ]
    }
   ],
   "source": [
    "# Running a SLiM simulation\n",
    "! slim recap_example.slim"
   ]
  },
  {
   "cell_type": "code",
   "execution_count": 3,
   "id": "1154d7b7",
   "metadata": {},
   "outputs": [
    {
     "name": "stdout",
     "output_type": "stream",
     "text": [
      "id\tmetadata\n",
      "0\tNone\n",
      "1\t{'migration_records': [], 'name': 'p1', 'sex_ratio': 0.0, 'slim_id': 1}\n",
      "2\t{'migration_records': [], 'name': 'p2', 'sex_ratio': 0.0, 'slim_id': 2}\n"
     ]
    }
   ],
   "source": [
    "! tskit populations recap_example.trees"
   ]
  },
  {
   "cell_type": "code",
   "execution_count": 4,
   "id": "0e86cf1e",
   "metadata": {},
   "outputs": [],
   "source": [
    "ts = tskit.load(\"recap_example.trees\")\n",
    "demography = msprime.Demography.from_tree_sequence(ts, initial_size=100)"
   ]
  },
  {
   "cell_type": "code",
   "execution_count": 5,
   "id": "a637d831",
   "metadata": {},
   "outputs": [
    {
     "name": "stderr",
     "output_type": "stream",
     "text": [
      "/opt/miniconda3/envs/pyslim/lib/python3.13/site-packages/msprime/ancestry.py:1290: TimeUnitsMismatchWarning: The initial_state has time_units=ticks but time is measured in generations in msprime. This may lead to significant discrepancies between the timescales. If you wish to suppress this warning, you can use, e.g., warnings.simplefilter('ignore', msprime.TimeUnitsMismatchWarning)\n",
      "  sim = _parse_sim_ancestry(\n"
     ]
    }
   ],
   "source": [
    "demography.add_migration_rate_change(\n",
    "    time=ts.metadata[\"SLiM\"][\"tick\"] + 100,\n",
    "    rate=0.1, source=\"p2\", dest=\"p1\")\n",
    "rts = pyslim.recapitate(ts, demography=demography,\n",
    "            recombination_rate=1e-8)"
   ]
  }
 ],
 "metadata": {
  "kernelspec": {
   "display_name": "pyslim",
   "language": "python",
   "name": "python3"
  },
  "language_info": {
   "codemirror_mode": {
    "name": "ipython",
    "version": 3
   },
   "file_extension": ".py",
   "mimetype": "text/x-python",
   "name": "python",
   "nbconvert_exporter": "python",
   "pygments_lexer": "ipython3",
   "version": "3.13.5"
  }
 },
 "nbformat": 4,
 "nbformat_minor": 5
}
